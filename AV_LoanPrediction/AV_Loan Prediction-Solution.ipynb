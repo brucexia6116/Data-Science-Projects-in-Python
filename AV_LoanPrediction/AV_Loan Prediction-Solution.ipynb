{
 "cells": [
  {
   "cell_type": "code",
   "execution_count": 667,
   "metadata": {},
   "outputs": [],
   "source": [
    "import os\n",
    "import pandas as pd\n",
    "import numpy as np\n",
    "import matplotlib.pyplot as plt\n",
    "import xgboost as xgb\n",
    "import seaborn as sns\n",
    "from matplotlib.colors import ListedColormap\n",
    "from sklearn.linear_model import LogisticRegression\n",
    "from sklearn.svm import SVC\n",
    "from sklearn.neighbors import KNeighborsClassifier\n",
    "from sklearn.naive_bayes import GaussianNB\n",
    "from sklearn.ensemble import RandomForestClassifier\n",
    "from sklearn.grid_search import GridSearchCV\n",
    "from sklearn import cross_validation as cval\n",
    "from sklearn.preprocessing import LabelEncoder\n",
    "from sklearn import metrics\n",
    "from sklearn.metrics import accuracy_score\n",
    "%matplotlib inline"
   ]
  },
  {
   "cell_type": "code",
   "execution_count": 668,
   "metadata": {
    "collapsed": true
   },
   "outputs": [],
   "source": [
    "#Set Path to Data Files\n",
    "os.chdir('D:\\Data Science\\Projects\\Loan Prediction')\n",
    "\n",
    "#Load Data\n",
    "X_train=pd.read_csv('train.csv')\n",
    "X_test=pd.read_csv('test.csv')"
   ]
  },
  {
   "cell_type": "code",
   "execution_count": 669,
   "metadata": {},
   "outputs": [
    {
     "data": {
      "text/html": [
       "<div>\n",
       "<style>\n",
       "    .dataframe thead tr:only-child th {\n",
       "        text-align: right;\n",
       "    }\n",
       "\n",
       "    .dataframe thead th {\n",
       "        text-align: left;\n",
       "    }\n",
       "\n",
       "    .dataframe tbody tr th {\n",
       "        vertical-align: top;\n",
       "    }\n",
       "</style>\n",
       "<table border=\"1\" class=\"dataframe\">\n",
       "  <thead>\n",
       "    <tr style=\"text-align: right;\">\n",
       "      <th></th>\n",
       "      <th>Loan_ID</th>\n",
       "      <th>Gender</th>\n",
       "      <th>Married</th>\n",
       "      <th>Dependents</th>\n",
       "      <th>Education</th>\n",
       "      <th>Self_Employed</th>\n",
       "      <th>ApplicantIncome</th>\n",
       "      <th>CoapplicantIncome</th>\n",
       "      <th>LoanAmount</th>\n",
       "      <th>Loan_Amount_Term</th>\n",
       "      <th>Credit_History</th>\n",
       "      <th>Property_Area</th>\n",
       "      <th>Loan_Status</th>\n",
       "    </tr>\n",
       "  </thead>\n",
       "  <tbody>\n",
       "    <tr>\n",
       "      <th>0</th>\n",
       "      <td>LP001002</td>\n",
       "      <td>Male</td>\n",
       "      <td>No</td>\n",
       "      <td>0</td>\n",
       "      <td>Graduate</td>\n",
       "      <td>No</td>\n",
       "      <td>5849</td>\n",
       "      <td>0.0</td>\n",
       "      <td>NaN</td>\n",
       "      <td>360.0</td>\n",
       "      <td>1.0</td>\n",
       "      <td>Urban</td>\n",
       "      <td>Y</td>\n",
       "    </tr>\n",
       "    <tr>\n",
       "      <th>1</th>\n",
       "      <td>LP001003</td>\n",
       "      <td>Male</td>\n",
       "      <td>Yes</td>\n",
       "      <td>1</td>\n",
       "      <td>Graduate</td>\n",
       "      <td>No</td>\n",
       "      <td>4583</td>\n",
       "      <td>1508.0</td>\n",
       "      <td>128.0</td>\n",
       "      <td>360.0</td>\n",
       "      <td>1.0</td>\n",
       "      <td>Rural</td>\n",
       "      <td>N</td>\n",
       "    </tr>\n",
       "    <tr>\n",
       "      <th>2</th>\n",
       "      <td>LP001005</td>\n",
       "      <td>Male</td>\n",
       "      <td>Yes</td>\n",
       "      <td>0</td>\n",
       "      <td>Graduate</td>\n",
       "      <td>Yes</td>\n",
       "      <td>3000</td>\n",
       "      <td>0.0</td>\n",
       "      <td>66.0</td>\n",
       "      <td>360.0</td>\n",
       "      <td>1.0</td>\n",
       "      <td>Urban</td>\n",
       "      <td>Y</td>\n",
       "    </tr>\n",
       "    <tr>\n",
       "      <th>3</th>\n",
       "      <td>LP001006</td>\n",
       "      <td>Male</td>\n",
       "      <td>Yes</td>\n",
       "      <td>0</td>\n",
       "      <td>Not Graduate</td>\n",
       "      <td>No</td>\n",
       "      <td>2583</td>\n",
       "      <td>2358.0</td>\n",
       "      <td>120.0</td>\n",
       "      <td>360.0</td>\n",
       "      <td>1.0</td>\n",
       "      <td>Urban</td>\n",
       "      <td>Y</td>\n",
       "    </tr>\n",
       "    <tr>\n",
       "      <th>4</th>\n",
       "      <td>LP001008</td>\n",
       "      <td>Male</td>\n",
       "      <td>No</td>\n",
       "      <td>0</td>\n",
       "      <td>Graduate</td>\n",
       "      <td>No</td>\n",
       "      <td>6000</td>\n",
       "      <td>0.0</td>\n",
       "      <td>141.0</td>\n",
       "      <td>360.0</td>\n",
       "      <td>1.0</td>\n",
       "      <td>Urban</td>\n",
       "      <td>Y</td>\n",
       "    </tr>\n",
       "  </tbody>\n",
       "</table>\n",
       "</div>"
      ],
      "text/plain": [
       "    Loan_ID Gender Married Dependents     Education Self_Employed  \\\n",
       "0  LP001002   Male      No          0      Graduate            No   \n",
       "1  LP001003   Male     Yes          1      Graduate            No   \n",
       "2  LP001005   Male     Yes          0      Graduate           Yes   \n",
       "3  LP001006   Male     Yes          0  Not Graduate            No   \n",
       "4  LP001008   Male      No          0      Graduate            No   \n",
       "\n",
       "   ApplicantIncome  CoapplicantIncome  LoanAmount  Loan_Amount_Term  \\\n",
       "0             5849                0.0         NaN             360.0   \n",
       "1             4583             1508.0       128.0             360.0   \n",
       "2             3000                0.0        66.0             360.0   \n",
       "3             2583             2358.0       120.0             360.0   \n",
       "4             6000                0.0       141.0             360.0   \n",
       "\n",
       "   Credit_History Property_Area Loan_Status  \n",
       "0             1.0         Urban           Y  \n",
       "1             1.0         Rural           N  \n",
       "2             1.0         Urban           Y  \n",
       "3             1.0         Urban           Y  \n",
       "4             1.0         Urban           Y  "
      ]
     },
     "execution_count": 669,
     "metadata": {},
     "output_type": "execute_result"
    }
   ],
   "source": [
    "#Quick Data Exploration\n",
    "X_train.head(5)"
   ]
  },
  {
   "cell_type": "code",
   "execution_count": 670,
   "metadata": {},
   "outputs": [
    {
     "data": {
      "text/html": [
       "<div>\n",
       "<style>\n",
       "    .dataframe thead tr:only-child th {\n",
       "        text-align: right;\n",
       "    }\n",
       "\n",
       "    .dataframe thead th {\n",
       "        text-align: left;\n",
       "    }\n",
       "\n",
       "    .dataframe tbody tr th {\n",
       "        vertical-align: top;\n",
       "    }\n",
       "</style>\n",
       "<table border=\"1\" class=\"dataframe\">\n",
       "  <thead>\n",
       "    <tr style=\"text-align: right;\">\n",
       "      <th></th>\n",
       "      <th>ApplicantIncome</th>\n",
       "      <th>CoapplicantIncome</th>\n",
       "      <th>LoanAmount</th>\n",
       "      <th>Loan_Amount_Term</th>\n",
       "      <th>Credit_History</th>\n",
       "    </tr>\n",
       "  </thead>\n",
       "  <tbody>\n",
       "    <tr>\n",
       "      <th>count</th>\n",
       "      <td>614.000000</td>\n",
       "      <td>614.000000</td>\n",
       "      <td>592.000000</td>\n",
       "      <td>600.00000</td>\n",
       "      <td>564.000000</td>\n",
       "    </tr>\n",
       "    <tr>\n",
       "      <th>mean</th>\n",
       "      <td>5403.459283</td>\n",
       "      <td>1621.245798</td>\n",
       "      <td>146.412162</td>\n",
       "      <td>342.00000</td>\n",
       "      <td>0.842199</td>\n",
       "    </tr>\n",
       "    <tr>\n",
       "      <th>std</th>\n",
       "      <td>6109.041673</td>\n",
       "      <td>2926.248369</td>\n",
       "      <td>85.587325</td>\n",
       "      <td>65.12041</td>\n",
       "      <td>0.364878</td>\n",
       "    </tr>\n",
       "    <tr>\n",
       "      <th>min</th>\n",
       "      <td>150.000000</td>\n",
       "      <td>0.000000</td>\n",
       "      <td>9.000000</td>\n",
       "      <td>12.00000</td>\n",
       "      <td>0.000000</td>\n",
       "    </tr>\n",
       "    <tr>\n",
       "      <th>25%</th>\n",
       "      <td>2877.500000</td>\n",
       "      <td>0.000000</td>\n",
       "      <td>100.000000</td>\n",
       "      <td>360.00000</td>\n",
       "      <td>1.000000</td>\n",
       "    </tr>\n",
       "    <tr>\n",
       "      <th>50%</th>\n",
       "      <td>3812.500000</td>\n",
       "      <td>1188.500000</td>\n",
       "      <td>128.000000</td>\n",
       "      <td>360.00000</td>\n",
       "      <td>1.000000</td>\n",
       "    </tr>\n",
       "    <tr>\n",
       "      <th>75%</th>\n",
       "      <td>5795.000000</td>\n",
       "      <td>2297.250000</td>\n",
       "      <td>168.000000</td>\n",
       "      <td>360.00000</td>\n",
       "      <td>1.000000</td>\n",
       "    </tr>\n",
       "    <tr>\n",
       "      <th>max</th>\n",
       "      <td>81000.000000</td>\n",
       "      <td>41667.000000</td>\n",
       "      <td>700.000000</td>\n",
       "      <td>480.00000</td>\n",
       "      <td>1.000000</td>\n",
       "    </tr>\n",
       "  </tbody>\n",
       "</table>\n",
       "</div>"
      ],
      "text/plain": [
       "       ApplicantIncome  CoapplicantIncome  LoanAmount  Loan_Amount_Term  \\\n",
       "count       614.000000         614.000000  592.000000         600.00000   \n",
       "mean       5403.459283        1621.245798  146.412162         342.00000   \n",
       "std        6109.041673        2926.248369   85.587325          65.12041   \n",
       "min         150.000000           0.000000    9.000000          12.00000   \n",
       "25%        2877.500000           0.000000  100.000000         360.00000   \n",
       "50%        3812.500000        1188.500000  128.000000         360.00000   \n",
       "75%        5795.000000        2297.250000  168.000000         360.00000   \n",
       "max       81000.000000       41667.000000  700.000000         480.00000   \n",
       "\n",
       "       Credit_History  \n",
       "count      564.000000  \n",
       "mean         0.842199  \n",
       "std          0.364878  \n",
       "min          0.000000  \n",
       "25%          1.000000  \n",
       "50%          1.000000  \n",
       "75%          1.000000  \n",
       "max          1.000000  "
      ]
     },
     "execution_count": 670,
     "metadata": {},
     "output_type": "execute_result"
    }
   ],
   "source": [
    "X_train.describe()"
   ]
  },
  {
   "cell_type": "code",
   "execution_count": 671,
   "metadata": {},
   "outputs": [
    {
     "data": {
      "text/plain": [
       "Loan_ID               0\n",
       "Gender               13\n",
       "Married               3\n",
       "Dependents           15\n",
       "Education             0\n",
       "Self_Employed        32\n",
       "ApplicantIncome       0\n",
       "CoapplicantIncome     0\n",
       "LoanAmount           22\n",
       "Loan_Amount_Term     14\n",
       "Credit_History       50\n",
       "Property_Area         0\n",
       "Loan_Status           0\n",
       "dtype: int64"
      ]
     },
     "execution_count": 671,
     "metadata": {},
     "output_type": "execute_result"
    }
   ],
   "source": [
    "#print missing values in all columns\n",
    "X_train.apply(lambda x: sum(x.isnull()))"
   ]
  },
  {
   "cell_type": "code",
   "execution_count": 672,
   "metadata": {
    "collapsed": true
   },
   "outputs": [],
   "source": [
    "#Sneak peek into each of the columns"
   ]
  },
  {
   "cell_type": "code",
   "execution_count": 673,
   "metadata": {
    "collapsed": true
   },
   "outputs": [],
   "source": [
    "#Target Variable #Loan_Status\n",
    "#encode labels into binary\n",
    "X_train.Loan_Status=X_train.Loan_Status.map({'Y':1,'N':0})"
   ]
  },
  {
   "cell_type": "code",
   "execution_count": 674,
   "metadata": {
    "collapsed": true
   },
   "outputs": [],
   "source": [
    "#Categorical Variables First"
   ]
  },
  {
   "cell_type": "code",
   "execution_count": 675,
   "metadata": {
    "collapsed": true
   },
   "outputs": [],
   "source": [
    "#Gender"
   ]
  },
  {
   "cell_type": "code",
   "execution_count": 676,
   "metadata": {},
   "outputs": [
    {
     "data": {
      "image/png": "[encoded data removed]",
      "text/plain": [
       "<matplotlib.figure.Figure at 0x16975da0>"
      ]
     },
     "metadata": {},
     "output_type": "display_data"
    }
   ],
   "source": [
    "fig, (axis1,axis2) = plt.subplots(1,2,figsize=(15,5))\n",
    "temp1 = pd.crosstab(X_train['Gender'], X_train['Loan_Status'])\n",
    "temp1.plot(kind='bar', stacked=True, color=['red','blue'], grid=False,ax=axis1 )\n",
    "for p in axis1.patches:\n",
    "    axis1.annotate(\"% 0.0f\" % p.get_height(), (p.get_x() + p.get_width() / 2., p.get_height()), ha='center', va='center', xytext=(0, 10), textcoords='offset points')\n",
    "    \n",
    "mean_approved = X_train[[\"Gender\", \"Loan_Status\"]].groupby(['Gender'],as_index=False).mean()\n",
    "sns.barplot(x='Gender', y='Loan_Status', data=mean_approved, order =['Male','Female'],ax=axis2).set_title('Loan Approved')\n",
    "for p in axis2.patches:\n",
    "    axis2.annotate(\"% 1.2f\" % p.get_height(), (p.get_x() + p.get_width() / 2., p.get_height()), ha='center', va='center', xytext=(0, 10), textcoords='offset points')\n",
    "    \n",
    "plt.show()\n",
    "\n",
    "#Plot on right indicates mean approved for Male is slightly higher than that of Female"
   ]
  },
  {
   "cell_type": "code",
   "execution_count": 677,
   "metadata": {},
   "outputs": [
    {
     "name": "stdout",
     "output_type": "stream",
     "text": [
      "Null values for Gender in Training set:13\n",
      "Null values for Gender in Test set:11\n"
     ]
    }
   ],
   "source": [
    "#check for Nans\n",
    "print \"Null values for Gender in Training set:\" + str(X_train.Gender.isnull().sum())\n",
    "print \"Null values for Gender in Test set:\" + str(X_test.Gender.isnull().sum())"
   ]
  },
  {
   "cell_type": "code",
   "execution_count": 678,
   "metadata": {
    "collapsed": true
   },
   "outputs": [],
   "source": [
    "#impute gender by mode to fill NaNs\n",
    "X_train['Gender']=X_train['Gender'].fillna(X_train['Gender'].value_counts().index[0])\n",
    "X_test['Gender']=X_test['Gender'].fillna(X_test['Gender'].value_counts().index[0])\n",
    "\n",
    "#Recheck for NaNs as above"
   ]
  },
  {
   "cell_type": "code",
   "execution_count": 679,
   "metadata": {
    "collapsed": true
   },
   "outputs": [],
   "source": [
    "#Married"
   ]
  },
  {
   "cell_type": "code",
   "execution_count": 680,
   "metadata": {},
   "outputs": [
    {
     "data": {
      "image/png": "[encoded data removed]",
      "text/plain": [
       "<matplotlib.figure.Figure at 0x16bb7c18>"
      ]
     },
     "metadata": {},
     "output_type": "display_data"
    }
   ],
   "source": [
    "fig, (axis1,axis2) = plt.subplots(1,2,figsize=(15,5))\n",
    "temp1 = pd.crosstab(X_train['Married'], X_train['Loan_Status'])\n",
    "temp1.plot(kind='bar', stacked=True, color=['red','blue'], grid=False,ax=axis1 )\n",
    "for p in axis1.patches:\n",
    "    axis1.annotate(\"% 0.0f\" % p.get_height(), (p.get_x() + p.get_width() / 2., p.get_height()), ha='center', va='center', xytext=(0, 10), textcoords='offset points')\n",
    "    \n",
    "mean_approved = X_train[[\"Married\", \"Loan_Status\"]].groupby(['Married'],as_index=False).mean()\n",
    "sns.barplot(x='Married', y='Loan_Status', data=mean_approved, order =['Yes','No'],ax=axis2).set_title('Loan Approved')\n",
    "for p in axis2.patches:\n",
    "    axis2.annotate(\"% 1.2f\" % p.get_height(), (p.get_x() + p.get_width() / 2., p.get_height()), ha='center', va='center', xytext=(0, 10), textcoords='offset points')\n",
    "    \n",
    "plt.show()\n",
    "\n",
    "#Plot on right indicates mean approved for Married is slightly higher than that of Unmarried"
   ]
  },
  {
   "cell_type": "code",
   "execution_count": 681,
   "metadata": {},
   "outputs": [
    {
     "name": "stdout",
     "output_type": "stream",
     "text": [
      "Null values for Married in Training set:3\n",
      "Null values for Married in Test set:0\n"
     ]
    }
   ],
   "source": [
    "#check for Nans\n",
    "print \"Null values for Married in Training set:\" + str(X_train.Married.isnull().sum())\n",
    "print \"Null values for Married in Test set:\" + str(X_test.Married.isnull().sum())"
   ]
  },
  {
   "cell_type": "code",
   "execution_count": 682,
   "metadata": {
    "collapsed": true
   },
   "outputs": [],
   "source": [
    "#impute Married by mode to fill NaNs\n",
    "X_train['Married']=X_train['Married'].fillna(X_train['Married'].value_counts().index[0])\n",
    "X_test['Married']=X_test['Married'].fillna(X_test['Married'].value_counts().index[0])\n",
    "\n",
    "#Recheck for NaNs as above"
   ]
  },
  {
   "cell_type": "code",
   "execution_count": 683,
   "metadata": {},
   "outputs": [],
   "source": [
    "#Dependents"
   ]
  },
  {
   "cell_type": "code",
   "execution_count": 684,
   "metadata": {
    "scrolled": true
   },
   "outputs": [
    {
     "data": {
      "image/png": "[encoded data removed]",
      "text/plain": [
       "<matplotlib.figure.Figure at 0x16f83e80>"
      ]
     },
     "metadata": {},
     "output_type": "display_data"
    }
   ],
   "source": [
    "fig, (axis1,axis2) = plt.subplots(1,2,figsize=(15,5))\n",
    "temp1 = pd.crosstab(X_train['Dependents'], X_train['Loan_Status'])\n",
    "temp1.plot(kind='bar', stacked=True, color=['red','blue'], grid=False,ax=axis1 )\n",
    "for p in axis1.patches:\n",
    "    axis1.annotate(\"% 0.0f\" % p.get_height(), (p.get_x() + p.get_width() / 2., p.get_height()), ha='center', va='center', xytext=(0, 10), textcoords='offset points')\n",
    "    \n",
    "mean_approved = X_train[[\"Dependents\", \"Loan_Status\"]].groupby(['Dependents'],as_index=False).mean()\n",
    "sns.barplot(x='Dependents', y='Loan_Status', data=mean_approved, order =['0','1','2','3+'],ax=axis2).set_title('Loan Approved')\n",
    "for p in axis2.patches:\n",
    "    axis2.annotate(\"% 1.2f\" % p.get_height(), (p.get_x() + p.get_width() / 2., p.get_height()), ha='center', va='center', xytext=(0, 10), textcoords='offset points')\n",
    "    \n",
    "plt.show()\n",
    "\n",
    "#Plot on right indicates mean approved for Dependents=2 is higher than other categories"
   ]
  },
  {
   "cell_type": "code",
   "execution_count": 685,
   "metadata": {},
   "outputs": [
    {
     "name": "stdout",
     "output_type": "stream",
     "text": [
      "Null values for Dependents in Training set:15\n",
      "Null values for Dependents in Test set:10\n"
     ]
    }
   ],
   "source": [
    "#check for Nans\n",
    "print \"Null values for Dependents in Training set:\" + str(X_train.Dependents.isnull().sum())\n",
    "print \"Null values for Dependents in Test set:\" + str(X_test.Dependents.isnull().sum())"
   ]
  },
  {
   "cell_type": "code",
   "execution_count": 686,
   "metadata": {
    "collapsed": true
   },
   "outputs": [],
   "source": [
    "#impute Dependents by mode to fill NaNs\n",
    "X_train['Dependents']=X_train['Dependents'].fillna(X_train['Dependents'].value_counts().index[0])\n",
    "X_test['Dependents']=X_test['Dependents'].fillna(X_test['Dependents'].value_counts().index[0])\n",
    "\n",
    "#Recheck for NaNs as above"
   ]
  },
  {
   "cell_type": "code",
   "execution_count": 687,
   "metadata": {
    "collapsed": true
   },
   "outputs": [],
   "source": [
    "#Education"
   ]
  },
  {
   "cell_type": "code",
   "execution_count": 688,
   "metadata": {},
   "outputs": [
    {
     "data": {
      "image/png": "[encoded data removed]",
      "text/plain": [
       "<matplotlib.figure.Figure at 0x17433128>"
      ]
     },
     "metadata": {},
     "output_type": "display_data"
    }
   ],
   "source": [
    "fig, (axis1,axis2) = plt.subplots(1,2,figsize=(15,5))\n",
    "temp1 = pd.crosstab(X_train['Education'], X_train['Loan_Status'])\n",
    "temp1.plot(kind='bar', stacked=True, color=['red','blue'], grid=False,ax=axis1 )\n",
    "for p in axis1.patches:\n",
    "    axis1.annotate(\"% 0.0f\" % p.get_height(), (p.get_x() + p.get_width() / 2., p.get_height()), ha='center', va='center', xytext=(0, 10), textcoords='offset points')\n",
    "    \n",
    "mean_approved = X_train[[\"Education\", \"Loan_Status\"]].groupby(['Education'],as_index=False).mean()\n",
    "sns.barplot(x='Education', y='Loan_Status', data=mean_approved, order =['Graduate','Not Graduate'],ax=axis2).set_title('Loan Approved')\n",
    "for p in axis2.patches:\n",
    "    axis2.annotate(\"% 1.2f\" % p.get_height(), (p.get_x() + p.get_width() / 2., p.get_height()), ha='center', va='center', xytext=(0, 10), textcoords='offset points')\n",
    "    \n",
    "plt.show()\n",
    "\n",
    "#Plot on right indicates mean approved for Graduate is higher than that of Not Graduate"
   ]
  },
  {
   "cell_type": "code",
   "execution_count": 689,
   "metadata": {},
   "outputs": [
    {
     "name": "stdout",
     "output_type": "stream",
     "text": [
      "Null values for Education in Training set:0\n",
      "Null values for Education in Test set:0\n"
     ]
    }
   ],
   "source": [
    "#check for Nans\n",
    "print \"Null values for Education in Training set:\" + str(X_train.Education.isnull().sum())\n",
    "print \"Null values for Education in Test set:\" + str(X_test.Education.isnull().sum())\n",
    "\n",
    "#No NaNs, hence no need for imputation"
   ]
  },
  {
   "cell_type": "code",
   "execution_count": 690,
   "metadata": {
    "collapsed": true
   },
   "outputs": [],
   "source": [
    "#Property_Area"
   ]
  },
  {
   "cell_type": "code",
   "execution_count": 691,
   "metadata": {},
   "outputs": [
    {
     "data": {
      "image/png": "[encoded data removed]",
      "text/plain": [
       "<matplotlib.figure.Figure at 0x16f5a7b8>"
      ]
     },
     "metadata": {},
     "output_type": "display_data"
    }
   ],
   "source": [
    "fig, (axis1,axis2) = plt.subplots(1,2,figsize=(15,5))\n",
    "temp1 = pd.crosstab(X_train['Property_Area'], X_train['Loan_Status'])\n",
    "temp1.plot(kind='bar', stacked=True, color=['red','blue'], grid=False,ax=axis1 )\n",
    "for p in axis1.patches:\n",
    "    axis1.annotate(\"% 0.0f\" % p.get_height(), (p.get_x() + p.get_width() / 2., p.get_height()), ha='center', va='center', xytext=(0, 10), textcoords='offset points')\n",
    "    \n",
    "mean_approved = X_train[[\"Property_Area\", \"Loan_Status\"]].groupby(['Property_Area'],as_index=False).mean()\n",
    "sns.barplot(x='Property_Area', y='Loan_Status', data=mean_approved,order =['Urban','Semiurban','Rural'],ax=axis2).set_title('Loan Approved')\n",
    "for p in axis2.patches:\n",
    "    axis2.annotate(\"% 1.2f\" % p.get_height(), (p.get_x() + p.get_width() / 2., p.get_height()), ha='center', va='center', xytext=(0, 10), textcoords='offset points')\n",
    "    \n",
    "plt.show()\n",
    "\n",
    "#Plot on right indicates mean approved for Semiurban is higher than that of Urban and Rural categories"
   ]
  },
  {
   "cell_type": "code",
   "execution_count": 692,
   "metadata": {},
   "outputs": [
    {
     "name": "stdout",
     "output_type": "stream",
     "text": [
      "Null values for Property_Area in Training set:0\n",
      "Null values for Property_Area in Test set:0\n"
     ]
    }
   ],
   "source": [
    "#Check for NaNs\n",
    "print \"Null values for Property_Area in Training set:\" + str(X_train.Property_Area.isnull().sum())\n",
    "print \"Null values for Property_Area in Test set:\" + str(X_test.Property_Area.isnull().sum())\n",
    "\n",
    "#No NaNs, hence no need to impute"
   ]
  },
  {
   "cell_type": "code",
   "execution_count": 693,
   "metadata": {
    "collapsed": true
   },
   "outputs": [],
   "source": [
    "#Self_Employed"
   ]
  },
  {
   "cell_type": "code",
   "execution_count": 694,
   "metadata": {},
   "outputs": [
    {
     "data": {
      "image/png": "[encoded data removed]",
      "text/plain": [
       "<matplotlib.figure.Figure at 0x16cbee80>"
      ]
     },
     "metadata": {},
     "output_type": "display_data"
    }
   ],
   "source": [
    "fig, (axis1,axis2) = plt.subplots(1,2,figsize=(15,5))\n",
    "temp1 = pd.crosstab(X_train['Self_Employed'], X_train['Loan_Status'])\n",
    "temp1.plot(kind='bar', stacked=True, color=['red','blue'], grid=False,ax=axis1 )\n",
    "for p in axis1.patches:\n",
    "    axis1.annotate(\"% 0.0f\" % p.get_height(), (p.get_x() + p.get_width() / 2., p.get_height()), ha='center', va='center', xytext=(0, 10), textcoords='offset points')\n",
    "    \n",
    "mean_approved = X_train[[\"Self_Employed\", \"Loan_Status\"]].groupby(['Self_Employed'],as_index=False).mean()\n",
    "sns.barplot(x='Self_Employed', y='Loan_Status', data=mean_approved,order =['Yes','No'],ax=axis2).set_title('Loan Approved')\n",
    "for p in axis2.patches:\n",
    "    axis2.annotate(\"% 1.2f\" % p.get_height(), (p.get_x() + p.get_width() / 2., p.get_height()), ha='center', va='center', xytext=(0, 10), textcoords='offset points')\n",
    "    \n",
    "plt.show()\n",
    "\n",
    "#Plot on right indicates mean approved for both categories of Self_Employed is almost same"
   ]
  },
  {
   "cell_type": "code",
   "execution_count": 695,
   "metadata": {},
   "outputs": [
    {
     "name": "stdout",
     "output_type": "stream",
     "text": [
      "Null values for Self_Employed in Training set:32\n",
      "Null values for Self_Employed in Test set:23\n"
     ]
    }
   ],
   "source": [
    "#Check for NaNs\n",
    "print \"Null values for Self_Employed in Training set:\" + str(X_train.Self_Employed.isnull().sum())\n",
    "print \"Null values for Self_Employed in Test set:\" + str(X_test.Self_Employed.isnull().sum())\n"
   ]
  },
  {
   "cell_type": "code",
   "execution_count": 696,
   "metadata": {
    "collapsed": true
   },
   "outputs": [],
   "source": [
    "#impute Self_Employed by mode to fill NaNs\n",
    "X_train['Self_Employed']=X_train['Self_Employed'].fillna(X_train['Self_Employed'].value_counts().index[0])\n",
    "X_test['Self_Employed']=X_test['Self_Employed'].fillna(X_test['Self_Employed'].value_counts().index[0])\n",
    "\n",
    "#recheck for NaNs as above"
   ]
  },
  {
   "cell_type": "code",
   "execution_count": 697,
   "metadata": {
    "collapsed": true
   },
   "outputs": [],
   "source": [
    "#Credit_History"
   ]
  },
  {
   "cell_type": "code",
   "execution_count": 698,
   "metadata": {},
   "outputs": [
    {
     "data": {
      "image/png": "[encoded data removed]",
      "text/plain": [
       "<matplotlib.figure.Figure at 0xe2cd240>"
      ]
     },
     "metadata": {},
     "output_type": "display_data"
    }
   ],
   "source": [
    "fig, (axis1,axis2) = plt.subplots(1,2,figsize=(15,5))\n",
    "temp1 = pd.crosstab(X_train['Credit_History'], X_train['Loan_Status'])\n",
    "temp1.plot(kind='bar', stacked=True, color=['red','blue'], grid=False,ax=axis1 )\n",
    "for p in axis1.patches:\n",
    "    axis1.annotate(\"% 0.0f\" % p.get_height(), (p.get_x() + p.get_width() / 2., p.get_height()), ha='center', va='center', xytext=(0, 10), textcoords='offset points')\n",
    "    \n",
    "mean_approved = X_train[[\"Credit_History\", \"Loan_Status\"]].groupby(['Credit_History'],as_index=False).mean()\n",
    "sns.barplot(x='Credit_History', y='Loan_Status', data=mean_approved,ax=axis2).set_title('Loan Approved')\n",
    "for p in axis2.patches:\n",
    "    axis2.annotate(\"% 1.2f\" % p.get_height(), (p.get_x() + p.get_width() / 2., p.get_height()), ha='center', va='center', xytext=(0, 10), textcoords='offset points')\n",
    "    \n",
    "plt.show()\n",
    "\n",
    "#Plot on right indicates mean approved for both Credit_History=1.0 is much higher than that of of Credit_History=0.0"
   ]
  },
  {
   "cell_type": "code",
   "execution_count": 699,
   "metadata": {},
   "outputs": [
    {
     "name": "stdout",
     "output_type": "stream",
     "text": [
      "Null values for Credit_History in Training set:50\n",
      "Null values for Credit_History in Test set:29\n"
     ]
    }
   ],
   "source": [
    "#Check for NaNs\n",
    "print \"Null values for Credit_History in Training set:\" + str(X_train.Credit_History.isnull().sum())\n",
    "print \"Null values for Credit_History in Test set:\" + str(X_test.Credit_History.isnull().sum())\n"
   ]
  },
  {
   "cell_type": "code",
   "execution_count": 700,
   "metadata": {},
   "outputs": [],
   "source": [
    "#impute Credit_History by mode to fill NaNs\n",
    "X_train['Credit_History']=X_train['Credit_History'].fillna(X_train['Credit_History'].value_counts().index[0])\n",
    "X_test['Credit_History']=X_test['Credit_History'].fillna(X_test['Credit_History'].value_counts().index[0])\n",
    "\n",
    "#recheck for NaNs as above"
   ]
  },
  {
   "cell_type": "code",
   "execution_count": 701,
   "metadata": {},
   "outputs": [],
   "source": [
    "#Use LabelEncoder to map all catgeorical variables into numeric\n",
    "\n",
    "#Note here categories for every feature of train and test set are same hence using the Label Encoder fitted on training set\n",
    "#will result in same mapping for test set\n",
    "#If a feature in training and test set has different categories, it needs to be dealt differently \n",
    "#(ex. by row binding train and test sets and then applying LabelEncoder )\n",
    "\n",
    "var_mod = ['Gender','Married','Dependents','Education','Self_Employed','Property_Area']\n",
    "le = LabelEncoder()\n",
    "for i in var_mod:\n",
    "    X_train[i] = le.fit_transform(X_train[i])\n",
    "    X_test[i] = le.transform(X_test[i])\n"
   ]
  },
  {
   "cell_type": "code",
   "execution_count": 702,
   "metadata": {
    "collapsed": true
   },
   "outputs": [],
   "source": [
    "#Coming to numeric variables now"
   ]
  },
  {
   "cell_type": "code",
   "execution_count": 703,
   "metadata": {
    "collapsed": true
   },
   "outputs": [],
   "source": [
    "#ApplicantIncome"
   ]
  },
  {
   "cell_type": "code",
   "execution_count": 704,
   "metadata": {},
   "outputs": [
    {
     "data": {
      "image/png": "[encoded data removed]",
      "text/plain": [
       "<matplotlib.figure.Figure at 0x1550e438>"
      ]
     },
     "metadata": {},
     "output_type": "display_data"
    },
    {
     "data": {
      "image/png": "[encoded data removed]",
      "text/plain": [
       "<matplotlib.figure.Figure at 0x176ee0f0>"
      ]
     },
     "metadata": {},
     "output_type": "display_data"
    }
   ],
   "source": [
    "#check distribution of continuous variables - ApplicantIncome\n",
    "fig, (axis1,axis2) = plt.subplots(1,2,figsize=(15,5))\n",
    "X_train.ApplicantIncome.hist(bins=20,ax=axis1)\n",
    "X_test.ApplicantIncome.hist(bins=20,ax=axis2)\n",
    "\n",
    "#draw density plots\n",
    "facet = sns.FacetGrid(X_train, hue=\"Loan_Status\",aspect=4)\n",
    "facet.map(sns.kdeplot,'ApplicantIncome',shade= True)\n",
    "facet.set(xlim=(0, X_train['ApplicantIncome'].max()))\n",
    "facet.add_legend()\n",
    "plt.show()\n",
    "\n",
    "#seem to be right-skewed"
   ]
  },
  {
   "cell_type": "code",
   "execution_count": 705,
   "metadata": {},
   "outputs": [
    {
     "name": "stdout",
     "output_type": "stream",
     "text": [
      "Null values for ApplicantIncome in Training set:0\n",
      "Null values for ApplicantIncome in Test set:0\n"
     ]
    }
   ],
   "source": [
    "#Check for NaNs\n",
    "print \"Null values for ApplicantIncome in Training set:\" + str(X_train.ApplicantIncome.isnull().sum())\n",
    "print \"Null values for ApplicantIncome in Test set:\" + str(X_test.ApplicantIncome.isnull().sum())"
   ]
  },
  {
   "cell_type": "code",
   "execution_count": 706,
   "metadata": {
    "collapsed": true
   },
   "outputs": [],
   "source": [
    "#CoapplicantIncome"
   ]
  },
  {
   "cell_type": "code",
   "execution_count": 707,
   "metadata": {},
   "outputs": [
    {
     "data": {
      "image/png": "[encoded data removed]",
      "text/plain": [
       "<matplotlib.figure.Figure at 0x17b895f8>"
      ]
     },
     "metadata": {},
     "output_type": "display_data"
    },
    {
     "data": {
      "image/png": "[encoded data removed]",
      "text/plain": [
       "<matplotlib.figure.Figure at 0xdbf2320>"
      ]
     },
     "metadata": {},
     "output_type": "display_data"
    }
   ],
   "source": [
    "#check distribution of continuous variables - CopplicantIncome\n",
    "fig, (axis1,axis2) = plt.subplots(1,2,figsize=(15,5))\n",
    "X_train.CoapplicantIncome.hist(bins=20,ax=axis1)\n",
    "X_test.CoapplicantIncome.hist(bins=20,ax=axis2)\n",
    "\n",
    "#draw density plots\n",
    "facet = sns.FacetGrid(X_train, hue=\"Loan_Status\",aspect=4)\n",
    "facet.map(sns.kdeplot,'CoapplicantIncome',shade= True)\n",
    "facet.set(xlim=(0, X_train['CoapplicantIncome'].max()))\n",
    "facet.add_legend()\n",
    "plt.show()\n",
    "\n",
    "#seem to be right-skewed, also indicates a few outliersii"
   ]
  },
  {
   "cell_type": "code",
   "execution_count": 708,
   "metadata": {},
   "outputs": [
    {
     "name": "stdout",
     "output_type": "stream",
     "text": [
      "Null values for CoapplicantIncome in Training set:0\n",
      "Null values for CoapplicantIncome in Test set:0\n"
     ]
    }
   ],
   "source": [
    "#Check for NaNs\n",
    "print \"Null values for CoapplicantIncome in Training set:\" + str(X_train.CoapplicantIncome.isnull().sum())\n",
    "print \"Null values for CoapplicantIncome in Test set:\" + str(X_test.CoapplicantIncome.isnull().sum())"
   ]
  },
  {
   "cell_type": "code",
   "execution_count": 709,
   "metadata": {},
   "outputs": [],
   "source": [
    "#Some applicants have high ApplicantIncome while others have high CoapplicantIncome\n",
    "#So it might be a good idea to combine both as Total_Income (Feature Engineering...)\n",
    "X_train['Total_Income']=(X_train.ApplicantIncome + X_train.CoapplicantIncome)\n",
    "X_test['Total_Income']=(X_test.ApplicantIncome + X_test.CoapplicantIncome)"
   ]
  },
  {
   "cell_type": "code",
   "execution_count": 710,
   "metadata": {},
   "outputs": [
    {
     "data": {
      "image/png": "[encoded data removed]",
      "text/plain": [
       "<matplotlib.figure.Figure at 0x1778cd68>"
      ]
     },
     "metadata": {},
     "output_type": "display_data"
    }
   ],
   "source": [
    "#check distribution of continuous variables - Total_Income\n",
    "fig, (axis1,axis2) = plt.subplots(1,2,figsize=(15,5))\n",
    "X_train.Total_Income.hist(bins=20,ax=axis1)\n",
    "X_test.Total_Income.hist(bins=20,ax=axis2)\n",
    "plt.show()\n",
    "\n",
    "#seem to be right-skewed, also indicates a few outliers"
   ]
  },
  {
   "cell_type": "code",
   "execution_count": 711,
   "metadata": {
    "collapsed": true
   },
   "outputs": [],
   "source": [
    "#Dropping ApplicantIncome and CoapplicantIncome\n",
    "X_train=X_train.drop(['ApplicantIncome','CoapplicantIncome'],axis=1)\n",
    "X_test=X_test.drop(['ApplicantIncome','CoapplicantIncome'],axis=1)"
   ]
  },
  {
   "cell_type": "code",
   "execution_count": 712,
   "metadata": {
    "collapsed": true
   },
   "outputs": [],
   "source": [
    "#LoanAmount"
   ]
  },
  {
   "cell_type": "code",
   "execution_count": 713,
   "metadata": {},
   "outputs": [
    {
     "data": {
      "image/png": "[encoded data removed]",
      "text/plain": [
       "<matplotlib.figure.Figure at 0x173ad6a0>"
      ]
     },
     "metadata": {},
     "output_type": "display_data"
    }
   ],
   "source": [
    "#check distribution of continuous variables - LoanAmount\n",
    "fig, (axis1,axis2) = plt.subplots(1,2,figsize=(15,5))\n",
    "X_train.LoanAmount.hist(bins=20,ax=axis1)\n",
    "X_test.LoanAmount.hist(bins=20,ax=axis2)\n",
    "plt.show()\n",
    "\n",
    "#seem to be right-skewed, also indicates outliers"
   ]
  },
  {
   "cell_type": "code",
   "execution_count": 714,
   "metadata": {},
   "outputs": [
    {
     "data": {
      "text/plain": [
       "<matplotlib.axes._subplots.AxesSubplot at 0x110c6ba8>"
      ]
     },
     "execution_count": 714,
     "metadata": {},
     "output_type": "execute_result"
    },
    {
     "data": {
      "image/png": "[encoded data removed]",
      "text/plain": [
       "<matplotlib.figure.Figure at 0x12638a90>"
      ]
     },
     "metadata": {},
     "output_type": "display_data"
    }
   ],
   "source": [
    "#Some more exploration for Total_Income\n",
    "#we can use different hue variables to investigate more\n",
    "X_train.boxplot(column='LoanAmount', by= ['Education','Self_Employed'])\n",
    "\n",
    "#Note that there are variations in the median of loan amount for each group and we can use these groups based on Education\n",
    "#and Self_Employed to impute missing values for LoanAmount"
   ]
  },
  {
   "cell_type": "code",
   "execution_count": 715,
   "metadata": {},
   "outputs": [
    {
     "name": "stdout",
     "output_type": "stream",
     "text": [
      "Null values for LoanAmount in Training set:22\n",
      "Null values for LoanAmount in Test set:5\n"
     ]
    }
   ],
   "source": [
    "#Check for NaNs\n",
    "print \"Null values for LoanAmount in Training set:\" + str(X_train.LoanAmount.isnull().sum())\n",
    "print \"Null values for LoanAmount in Test set:\" + str(X_test.LoanAmount.isnull().sum())"
   ]
  },
  {
   "cell_type": "code",
   "execution_count": 716,
   "metadata": {},
   "outputs": [
    {
     "name": "stdout",
     "output_type": "stream",
     "text": [
      "                         LoanAmount\n",
      "Education Self_Employed            \n",
      "0         0              149.724566\n",
      "          1              182.241935\n",
      "1         0              115.900000\n",
      "          1              134.647059\n"
     ]
    }
   ],
   "source": [
    "#Check pivot tables for Train & Test Sets LoanAmount values grouped by Education and Self_Employed\n",
    "impute_grps_train = X_train.pivot_table(values=[\"LoanAmount\"], index=[\"Education\",\"Self_Employed\"], aggfunc=np.mean)\n",
    "impute_grps_test = X_test.pivot_table(values=[\"LoanAmount\"], index=[\"Education\",\"Self_Employed\"], aggfunc=np.mean)\n",
    "print impute_grps_train"
   ]
  },
  {
   "cell_type": "code",
   "execution_count": 717,
   "metadata": {
    "collapsed": true
   },
   "outputs": [],
   "source": [
    "#iterate only through rows with missing LoanAmount\n",
    "#Use means of these groups for LoanAmount imputation\n",
    "for i,row in X_train.loc[X_train['LoanAmount'].isnull(),:].iterrows():\n",
    "  ind = tuple([row['Education'],row['Self_Employed']])\n",
    "  X_train.loc[i,'LoanAmount'] = impute_grps_train.loc[ind].values[0]\n",
    "\n",
    "    \n",
    "for i,row in X_test.loc[X_test['LoanAmount'].isnull(),:].iterrows():\n",
    "  ind = tuple([row['Education'],row['Self_Employed']])\n",
    "  X_test.loc[i,'LoanAmount'] = impute_grps_test.loc[ind].values[0]\n",
    "    \n",
    "#Recheck for NaNs as above"
   ]
  },
  {
   "cell_type": "code",
   "execution_count": 718,
   "metadata": {
    "collapsed": true
   },
   "outputs": [],
   "source": [
    "#Loan_Amount_Term"
   ]
  },
  {
   "cell_type": "code",
   "execution_count": 719,
   "metadata": {},
   "outputs": [
    {
     "data": {
      "image/png": "[encoded data removed]",
      "text/plain": [
       "<matplotlib.figure.Figure at 0x17018748>"
      ]
     },
     "metadata": {},
     "output_type": "display_data"
    }
   ],
   "source": [
    "fig, (axis1,axis2) = plt.subplots(1,2,figsize=(15,5))\n",
    "sns.countplot(x='Loan_Amount_Term', data=X_train, ax=axis1)\n",
    "for p in axis1.patches:\n",
    "    axis1.annotate(\"% 0.0f\" % p.get_height(), (p.get_x() + p.get_width() / 2., p.get_height()), ha='center', va='center', xytext=(0, 10), textcoords='offset points')\n",
    "    \n",
    "mean_approved = X_train[[\"Loan_Amount_Term\", \"Loan_Status\"]].groupby(['Loan_Amount_Term'],as_index=False).mean()\n",
    "sns.barplot(x='Loan_Amount_Term', y='Loan_Status', data=mean_approved)\n",
    "for p in axis2.patches:\n",
    "    axis2.annotate(\"% 1.2f\" % p.get_height(), (p.get_x() + p.get_width() / 2., p.get_height()), ha='center', va='center', xytext=(0, 10), textcoords='offset points')\n",
    "    \n",
    "plt.show()\n",
    "\n",
    "#Plot on right indicates mean approved for Male is slightly higher than that of Female"
   ]
  },
  {
   "cell_type": "code",
   "execution_count": 720,
   "metadata": {},
   "outputs": [
    {
     "name": "stdout",
     "output_type": "stream",
     "text": [
      "Null values for Loan_Amount_Term in Training set:14\n",
      "Null values for Loan_Amount_Term in Test set:6\n"
     ]
    }
   ],
   "source": [
    "#Check for NaNs\n",
    "print \"Null values for Loan_Amount_Term in Training set:\" + str(X_train.Loan_Amount_Term.isnull().sum())\n",
    "print \"Null values for Loan_Amount_Term in Test set:\" + str(X_test.Loan_Amount_Term.isnull().sum())"
   ]
  },
  {
   "cell_type": "code",
   "execution_count": 721,
   "metadata": {
    "collapsed": true
   },
   "outputs": [],
   "source": [
    "#impute by mode to fill NaNs\n",
    "X_train['Loan_Amount_Term']=X_train['Loan_Amount_Term'].fillna(X_train['Loan_Amount_Term'].value_counts().index[0])\n",
    "X_test['Loan_Amount_Term']=X_test['Loan_Amount_Term'].fillna(X_test['Loan_Amount_Term'].value_counts().index[0])"
   ]
  },
  {
   "cell_type": "code",
   "execution_count": 722,
   "metadata": {
    "collapsed": true
   },
   "outputs": [],
   "source": [
    "#Convert Loan_Amount_Term from float to int\n",
    "X_train['Loan_Amount_Term'] = X_train['Loan_Amount_Term'].astype(int)\n",
    "X_test['Loan_Amount_Term'] = X_test['Loan_Amount_Term'].astype(int)"
   ]
  },
  {
   "cell_type": "code",
   "execution_count": 723,
   "metadata": {
    "collapsed": true
   },
   "outputs": [],
   "source": [
    "#Feature Engineering\n",
    "#Add an additional feature EMI where EMI= [P x R x (1+R)^N]/[(1+R)^N-1]\n",
    "#Where P is Loan Amount (given), N is repayment period in months (given), Assuming R to be 9%\n",
    "\n",
    "X_train['EMI']=(X_train.LoanAmount*0.09*(1.09**X_train.Loan_Amount_Term))/((1.09**X_train.Loan_Amount_Term)-1)\n",
    "X_test['EMI']=(X_test.LoanAmount*0.09*(1.09**X_test.Loan_Amount_Term))/((1.09**X_test.Loan_Amount_Term)-1)"
   ]
  },
  {
   "cell_type": "code",
   "execution_count": 724,
   "metadata": {},
   "outputs": [
    {
     "data": {
      "image/png": "[encoded data removed]",
      "text/plain": [
       "<matplotlib.figure.Figure at 0x17e8f400>"
      ]
     },
     "metadata": {},
     "output_type": "display_data"
    }
   ],
   "source": [
    "#Check EMI distribution\n",
    "fig, (axis1,axis2) = plt.subplots(1,2,figsize=(15,5))\n",
    "X_train.EMI.hist(ax=axis1)\n",
    "X_test.EMI.hist(ax=axis2)\n",
    "plt.show()\n",
    "#indicates skewed distribution"
   ]
  },
  {
   "cell_type": "code",
   "execution_count": 725,
   "metadata": {},
   "outputs": [],
   "source": [
    "#Banks use EMI/Income ratio to evaluate loans for loan approval process, higher this ratio, reduced are chances to get a loan\n",
    "X_train['EMI/Income']=X_train.EMI/X_train.Total_Income\n",
    "X_test['EMI/Income']=X_test.EMI/X_test.Total_Income"
   ]
  },
  {
   "cell_type": "code",
   "execution_count": 726,
   "metadata": {},
   "outputs": [
    {
     "data": {
      "text/html": [
       "<div>\n",
       "<style>\n",
       "    .dataframe thead tr:only-child th {\n",
       "        text-align: right;\n",
       "    }\n",
       "\n",
       "    .dataframe thead th {\n",
       "        text-align: left;\n",
       "    }\n",
       "\n",
       "    .dataframe tbody tr th {\n",
       "        vertical-align: top;\n",
       "    }\n",
       "</style>\n",
       "<table border=\"1\" class=\"dataframe\">\n",
       "  <thead>\n",
       "    <tr style=\"text-align: right;\">\n",
       "      <th></th>\n",
       "      <th>Loan_ID</th>\n",
       "      <th>Gender</th>\n",
       "      <th>Married</th>\n",
       "      <th>Dependents</th>\n",
       "      <th>Education</th>\n",
       "      <th>Self_Employed</th>\n",
       "      <th>LoanAmount</th>\n",
       "      <th>Loan_Amount_Term</th>\n",
       "      <th>Credit_History</th>\n",
       "      <th>Property_Area</th>\n",
       "      <th>Total_Income</th>\n",
       "      <th>EMI</th>\n",
       "      <th>EMI/Income</th>\n",
       "    </tr>\n",
       "  </thead>\n",
       "  <tbody>\n",
       "    <tr>\n",
       "      <th>0</th>\n",
       "      <td>LP001015</td>\n",
       "      <td>1</td>\n",
       "      <td>1</td>\n",
       "      <td>0</td>\n",
       "      <td>0</td>\n",
       "      <td>0</td>\n",
       "      <td>110.0</td>\n",
       "      <td>360</td>\n",
       "      <td>1.0</td>\n",
       "      <td>2</td>\n",
       "      <td>5720</td>\n",
       "      <td>9.90</td>\n",
       "      <td>0.001731</td>\n",
       "    </tr>\n",
       "    <tr>\n",
       "      <th>1</th>\n",
       "      <td>LP001022</td>\n",
       "      <td>1</td>\n",
       "      <td>1</td>\n",
       "      <td>1</td>\n",
       "      <td>0</td>\n",
       "      <td>0</td>\n",
       "      <td>126.0</td>\n",
       "      <td>360</td>\n",
       "      <td>1.0</td>\n",
       "      <td>2</td>\n",
       "      <td>4576</td>\n",
       "      <td>11.34</td>\n",
       "      <td>0.002478</td>\n",
       "    </tr>\n",
       "    <tr>\n",
       "      <th>2</th>\n",
       "      <td>LP001031</td>\n",
       "      <td>1</td>\n",
       "      <td>1</td>\n",
       "      <td>2</td>\n",
       "      <td>0</td>\n",
       "      <td>0</td>\n",
       "      <td>208.0</td>\n",
       "      <td>360</td>\n",
       "      <td>1.0</td>\n",
       "      <td>2</td>\n",
       "      <td>6800</td>\n",
       "      <td>18.72</td>\n",
       "      <td>0.002753</td>\n",
       "    </tr>\n",
       "    <tr>\n",
       "      <th>3</th>\n",
       "      <td>LP001035</td>\n",
       "      <td>1</td>\n",
       "      <td>1</td>\n",
       "      <td>2</td>\n",
       "      <td>0</td>\n",
       "      <td>0</td>\n",
       "      <td>100.0</td>\n",
       "      <td>360</td>\n",
       "      <td>1.0</td>\n",
       "      <td>2</td>\n",
       "      <td>4886</td>\n",
       "      <td>9.00</td>\n",
       "      <td>0.001842</td>\n",
       "    </tr>\n",
       "    <tr>\n",
       "      <th>4</th>\n",
       "      <td>LP001051</td>\n",
       "      <td>1</td>\n",
       "      <td>0</td>\n",
       "      <td>0</td>\n",
       "      <td>1</td>\n",
       "      <td>0</td>\n",
       "      <td>78.0</td>\n",
       "      <td>360</td>\n",
       "      <td>1.0</td>\n",
       "      <td>2</td>\n",
       "      <td>3276</td>\n",
       "      <td>7.02</td>\n",
       "      <td>0.002143</td>\n",
       "    </tr>\n",
       "  </tbody>\n",
       "</table>\n",
       "</div>"
      ],
      "text/plain": [
       "    Loan_ID  Gender  Married  Dependents  Education  Self_Employed  \\\n",
       "0  LP001015       1        1           0          0              0   \n",
       "1  LP001022       1        1           1          0              0   \n",
       "2  LP001031       1        1           2          0              0   \n",
       "3  LP001035       1        1           2          0              0   \n",
       "4  LP001051       1        0           0          1              0   \n",
       "\n",
       "   LoanAmount  Loan_Amount_Term  Credit_History  Property_Area  Total_Income  \\\n",
       "0       110.0               360             1.0              2          5720   \n",
       "1       126.0               360             1.0              2          4576   \n",
       "2       208.0               360             1.0              2          6800   \n",
       "3       100.0               360             1.0              2          4886   \n",
       "4        78.0               360             1.0              2          3276   \n",
       "\n",
       "     EMI  EMI/Income  \n",
       "0   9.90    0.001731  \n",
       "1  11.34    0.002478  \n",
       "2  18.72    0.002753  \n",
       "3   9.00    0.001842  \n",
       "4   7.02    0.002143  "
      ]
     },
     "execution_count": 726,
     "metadata": {},
     "output_type": "execute_result"
    }
   ],
   "source": [
    "#Check the train set now\n",
    "X_test.head(5)"
   ]
  },
  {
   "cell_type": "code",
   "execution_count": 727,
   "metadata": {},
   "outputs": [
    {
     "data": {
      "image/png": "[encoded data removed]",
      "text/plain": [
       "<matplotlib.figure.Figure at 0xee03780>"
      ]
     },
     "metadata": {},
     "output_type": "display_data"
    },
    {
     "data": {
      "image/png": "[encoded data removed]",
      "text/plain": [
       "<matplotlib.figure.Figure at 0x17c58780>"
      ]
     },
     "metadata": {},
     "output_type": "display_data"
    }
   ],
   "source": [
    "#Check EMI/Income distribution\n",
    "fig, (axis1,axis2) = plt.subplots(1,2,figsize=(15,5))\n",
    "X_train['EMI/Income'].hist(ax=axis1)\n",
    "X_test['EMI/Income'].hist(ax=axis2)\n",
    "\n",
    "#draw density plots\n",
    "facet = sns.FacetGrid(X_train, hue=\"Loan_Status\",aspect=4)\n",
    "facet.map(sns.kdeplot,'EMI/Income',shade= True)\n",
    "facet.set(xlim=(0, X_train['EMI/Income'].max()))\n",
    "facet.add_legend()\n",
    "plt.show()\n",
    "\n",
    "#not so skewed unlike the distributions of features it is derived from"
   ]
  },
  {
   "cell_type": "code",
   "execution_count": 728,
   "metadata": {},
   "outputs": [],
   "source": [
    "#Now as EMI/Income is derived from EMI, LoanAmount, Loan_Amount_Term and Total_Income there is high correlation amongst these\n",
    "#We will retain EMI/Income and drop features it is derived from, hence need not take log transformations to handle outliers\n",
    "X_train.drop(labels=['Total_Income','LoanAmount','Loan_Amount_Term','EMI'], inplace=True, axis=1)\n",
    "X_test.drop(labels=['Total_Income','LoanAmount','Loan_Amount_Term','EMI'], inplace=True, axis=1)"
   ]
  },
  {
   "cell_type": "code",
   "execution_count": 731,
   "metadata": {},
   "outputs": [
    {
     "data": {
      "text/html": [
       "<div>\n",
       "<style>\n",
       "    .dataframe thead tr:only-child th {\n",
       "        text-align: right;\n",
       "    }\n",
       "\n",
       "    .dataframe thead th {\n",
       "        text-align: left;\n",
       "    }\n",
       "\n",
       "    .dataframe tbody tr th {\n",
       "        vertical-align: top;\n",
       "    }\n",
       "</style>\n",
       "<table border=\"1\" class=\"dataframe\">\n",
       "  <thead>\n",
       "    <tr style=\"text-align: right;\">\n",
       "      <th></th>\n",
       "      <th>Loan_ID</th>\n",
       "      <th>Gender</th>\n",
       "      <th>Married</th>\n",
       "      <th>Dependents</th>\n",
       "      <th>Education</th>\n",
       "      <th>Self_Employed</th>\n",
       "      <th>Credit_History</th>\n",
       "      <th>Property_Area</th>\n",
       "      <th>Loan_Status</th>\n",
       "      <th>EMI/Income</th>\n",
       "    </tr>\n",
       "  </thead>\n",
       "  <tbody>\n",
       "    <tr>\n",
       "      <th>0</th>\n",
       "      <td>LP001002</td>\n",
       "      <td>1</td>\n",
       "      <td>0</td>\n",
       "      <td>0</td>\n",
       "      <td>0</td>\n",
       "      <td>0</td>\n",
       "      <td>1.0</td>\n",
       "      <td>2</td>\n",
       "      <td>1</td>\n",
       "      <td>0.002304</td>\n",
       "    </tr>\n",
       "    <tr>\n",
       "      <th>1</th>\n",
       "      <td>LP001003</td>\n",
       "      <td>1</td>\n",
       "      <td>1</td>\n",
       "      <td>1</td>\n",
       "      <td>0</td>\n",
       "      <td>0</td>\n",
       "      <td>1.0</td>\n",
       "      <td>0</td>\n",
       "      <td>0</td>\n",
       "      <td>0.001891</td>\n",
       "    </tr>\n",
       "    <tr>\n",
       "      <th>2</th>\n",
       "      <td>LP001005</td>\n",
       "      <td>1</td>\n",
       "      <td>1</td>\n",
       "      <td>0</td>\n",
       "      <td>0</td>\n",
       "      <td>1</td>\n",
       "      <td>1.0</td>\n",
       "      <td>2</td>\n",
       "      <td>1</td>\n",
       "      <td>0.001980</td>\n",
       "    </tr>\n",
       "    <tr>\n",
       "      <th>3</th>\n",
       "      <td>LP001006</td>\n",
       "      <td>1</td>\n",
       "      <td>1</td>\n",
       "      <td>0</td>\n",
       "      <td>1</td>\n",
       "      <td>0</td>\n",
       "      <td>1.0</td>\n",
       "      <td>2</td>\n",
       "      <td>1</td>\n",
       "      <td>0.002186</td>\n",
       "    </tr>\n",
       "    <tr>\n",
       "      <th>4</th>\n",
       "      <td>LP001008</td>\n",
       "      <td>1</td>\n",
       "      <td>0</td>\n",
       "      <td>0</td>\n",
       "      <td>0</td>\n",
       "      <td>0</td>\n",
       "      <td>1.0</td>\n",
       "      <td>2</td>\n",
       "      <td>1</td>\n",
       "      <td>0.002115</td>\n",
       "    </tr>\n",
       "  </tbody>\n",
       "</table>\n",
       "</div>"
      ],
      "text/plain": [
       "    Loan_ID  Gender  Married  Dependents  Education  Self_Employed  \\\n",
       "0  LP001002       1        0           0          0              0   \n",
       "1  LP001003       1        1           1          0              0   \n",
       "2  LP001005       1        1           0          0              1   \n",
       "3  LP001006       1        1           0          1              0   \n",
       "4  LP001008       1        0           0          0              0   \n",
       "\n",
       "   Credit_History  Property_Area  Loan_Status  EMI/Income  \n",
       "0             1.0              2            1    0.002304  \n",
       "1             1.0              0            0    0.001891  \n",
       "2             1.0              2            1    0.001980  \n",
       "3             1.0              2            1    0.002186  \n",
       "4             1.0              2            1    0.002115  "
      ]
     },
     "execution_count": 731,
     "metadata": {},
     "output_type": "execute_result"
    }
   ],
   "source": [
    "#Check X_train\n",
    "X_train.head(5)"
   ]
  },
  {
   "cell_type": "code",
   "execution_count": 732,
   "metadata": {
    "collapsed": true
   },
   "outputs": [],
   "source": [
    "#Separate out labels\n",
    "y_train= X_train['Loan_Status'].copy()\n",
    "X_train.drop(labels=['Loan_Status'], inplace=True, axis=1)"
   ]
  },
  {
   "cell_type": "code",
   "execution_count": 733,
   "metadata": {},
   "outputs": [],
   "source": [
    "#Drop Loan_ID\n",
    "X_train.drop(labels=['Loan_ID'], inplace=True, axis=1)\n",
    "\n",
    "submission_loanid=X_test['Loan_ID'].copy()\n",
    "X_test.drop(labels=['Loan_ID'], inplace=True, axis=1)"
   ]
  },
  {
   "cell_type": "code",
   "execution_count": 734,
   "metadata": {
    "collapsed": true
   },
   "outputs": [],
   "source": [
    "#Now our Train and Set sets are ready for modeling"
   ]
  },
  {
   "cell_type": "code",
   "execution_count": 735,
   "metadata": {},
   "outputs": [
    {
     "name": "stdout",
     "output_type": "stream",
     "text": [
      "Accuracy (Training Data) : 80.94%\n",
      "Cross Validation Score : 80.96%\n"
     ]
    }
   ],
   "source": [
    "#Logistic Regression\n",
    "logreg = LogisticRegression()\n",
    "logreg.fit(X_train, y_train)\n",
    "\n",
    "y_logreg=logreg.predict(X_train)\n",
    "accuracy = metrics.accuracy_score(y_train,y_logreg)\n",
    "print \"Accuracy (Training Data) : %s\" % \"{0:.2%}\".format(accuracy)\n",
    "\n",
    "print \"Cross Validation Score : %s\" % \"{0:.2%}\".format((cval.cross_val_score(logreg, X_train, y_train, cv=5).mean()))\n",
    "\n",
    "y_logreg_test=logreg.predict(X_test)"
   ]
  },
  {
   "cell_type": "code",
   "execution_count": 736,
   "metadata": {},
   "outputs": [
    {
     "name": "stdout",
     "output_type": "stream",
     "text": [
      "Accuracy (Training Data) : 81.76%\n",
      "Cross Validation Score : 80.79%\n"
     ]
    }
   ],
   "source": [
    "#Random Forest Classification\n",
    "rf = RandomForestClassifier(max_features=2, min_samples_split=5, max_depth=3, n_estimators=100, criterion='gini', random_state=15325)\n",
    "rf.fit(X_train, y_train)\n",
    "\n",
    "y_rf=rf.predict(X_train)\n",
    "\n",
    "accuracy = metrics.accuracy_score(y_train,y_rf)\n",
    "print \"Accuracy (Training Data) : %s\" % \"{0:.2%}\".format(accuracy)\n",
    "\n",
    "print \"Cross Validation Score : %s\" % \"{0:.2%}\".format((cval.cross_val_score(rf, X_train, y_train, cv=5).mean()))\n",
    "\n",
    "y_rf_test=rf.predict(X_test)"
   ]
  },
  {
   "cell_type": "code",
   "execution_count": 737,
   "metadata": {},
   "outputs": [
    {
     "name": "stdout",
     "output_type": "stream",
     "text": [
      "Accuracy (Training Data) : 85.50%\n",
      "Cross Validation Score : 78.02%\n"
     ]
    }
   ],
   "source": [
    "#XGBoost\n",
    "gbm = xgb.XGBClassifier(n_estimators=180)\n",
    "gbm.fit(X_train, y_train)\n",
    "\n",
    "y_xgb=gbm.predict(X_train)\n",
    "\n",
    "accuracy = metrics.accuracy_score(y_train,y_xgb)\n",
    "print \"Accuracy (Training Data) : %s\" % \"{0:.2%}\".format(accuracy)\n",
    "\n",
    "print \"Cross Validation Score : %s\" % \"{0:.2%}\".format((cval.cross_val_score(gbm, X_train, y_train, cv=5).mean()))\n",
    "\n",
    "y_xgb_test=gbm.predict(X_test)"
   ]
  },
  {
   "cell_type": "code",
   "execution_count": 738,
   "metadata": {},
   "outputs": [
    {
     "name": "stdout",
     "output_type": "stream",
     "text": [
      "Accuracy (Training Data) : 83.06%\n",
      "Cross Validation Score : 78.04%\n"
     ]
    }
   ],
   "source": [
    "# KNeighborsClassifier\n",
    "knn = KNeighborsClassifier(n_neighbors = 5)\n",
    "\n",
    "#scale the data for KNN\n",
    "stdscaler=preprocessing.StandardScaler().fit(X_train)\n",
    "scaled_train=stdscaler.transform(X_train)\n",
    "scaled_test=stdscaler.transform(X_test)\n",
    "\n",
    "knn.fit(scaled_train, y_train)\n",
    "y_knn=knn.predict(scaled_train)\n",
    "\n",
    "accuracy = metrics.accuracy_score(y_train,y_knn)\n",
    "print \"Accuracy (Training Data) : %s\" % \"{0:.2%}\".format(accuracy)\n",
    "print \"Cross Validation Score : %s\" % \"{0:.2%}\".format((cval.cross_val_score(knn,scaled_train, y_train, cv=5).mean()))\n",
    "\n",
    "y_knn_test=knn.predict(scaled_test)"
   ]
  },
  {
   "cell_type": "code",
   "execution_count": 739,
   "metadata": {},
   "outputs": [],
   "source": [
    "#Upload labels for submission\n",
    "test_labels=pd.DataFrame(y_xgb_test) #test labels for different algorithms\n",
    "test_labels['Loan_ID']=submission_loanid\n",
    "test_labels['Loan_Status']=test_labels[0]\n",
    "test_labels=test_labels.drop(labels=[0],axis=1)\n",
    "test_labels.Loan_Status = test_labels.Loan_Status.map({1:'Y', 0:'N'}) \n",
    "test_labels.to_csv('Loan Predictions_Chhavi Saluja.csv',sep=',',index=False)"
   ]
  },
  {
   "cell_type": "code",
   "execution_count": 740,
   "metadata": {},
   "outputs": [],
   "source": [
    "#For Final Submission I have used XGBoost\n",
    "#Public Leaderboard Score (Rank) - 80.5556 (26)"
   ]
  }
 ],
 "metadata": {
  "kernelspec": {
   "display_name": "Python 2",
   "language": "python",
   "name": "python2"
  },
  "language_info": {
   "codemirror_mode": {
    "name": "ipython",
    "version": 2
   },
   "file_extension": ".py",
   "mimetype": "text/x-python",
   "name": "python",
   "nbconvert_exporter": "python",
   "pygments_lexer": "ipython2",
   "version": "2.7.13"
  }
 },
 "nbformat": 4,
 "nbformat_minor": 2
}
